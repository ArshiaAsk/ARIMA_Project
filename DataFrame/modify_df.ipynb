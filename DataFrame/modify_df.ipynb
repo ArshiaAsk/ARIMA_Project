{
 "cells": [
  {
   "cell_type": "code",
   "id": "initial_id",
   "metadata": {
    "collapsed": true,
    "ExecuteTime": {
     "end_time": "2025-03-05T17:01:42.512823Z",
     "start_time": "2025-03-05T17:01:42.505441Z"
    }
   },
   "source": [
    "import numpy as np\n",
    "import pandas as pd\n",
    "import datetime as dt"
   ],
   "outputs": [],
   "execution_count": 169
  },
  {
   "metadata": {
    "ExecuteTime": {
     "end_time": "2025-03-05T17:01:42.565497Z",
     "start_time": "2025-03-05T17:01:42.536285Z"
    }
   },
   "cell_type": "code",
   "source": [
    "oil = pd.read_csv(r\"C:\\Users\\2023\\PycharmProjects\\pythonProject\\.venv\\etc\\Sanji_Project\\Get_Info\\World_Oil_price.csv\")\n",
    "oil"
   ],
   "id": "be1747ca883346e",
   "outputs": [
    {
     "data": {
      "text/plain": [
       "           Price               Close                High                 Low  \\\n",
       "0         Ticker                CL=F                CL=F                CL=F   \n",
       "1           Date                 NaN                 NaN                 NaN   \n",
       "2     2015-01-02  52.689998626708984   55.11000061035156  52.029998779296875   \n",
       "3     2015-01-05  50.040000915527344   52.72999954223633   49.68000030517578   \n",
       "4     2015-01-06   47.93000030517578  50.369998931884766   47.54999923706055   \n",
       "...          ...                 ...                 ...                 ...   \n",
       "2511  2024-12-24    70.0999984741211   70.43000030517578   69.36000061035156   \n",
       "2512  2024-12-26   69.62000274658203               70.75   69.33000183105469   \n",
       "2513  2024-12-27    70.5999984741211               70.75   69.44000244140625   \n",
       "2514  2024-12-30   70.98999786376953   71.55999755859375   70.12000274658203   \n",
       "2515  2024-12-31   71.72000122070312    72.0199966430664   70.87000274658203   \n",
       "\n",
       "                   Open  Volume  \n",
       "0                  CL=F    CL=F  \n",
       "1                   NaN     NaN  \n",
       "2      53.7599983215332  268708  \n",
       "3     52.61000061035156  375782  \n",
       "4                  50.0  451642  \n",
       "...                 ...     ...  \n",
       "2511  69.55999755859375  122602  \n",
       "2512  70.19999694824219  144877  \n",
       "2513  69.68000030517578  172641  \n",
       "2514  70.41999816894531  199296  \n",
       "2515   71.1500015258789  151155  \n",
       "\n",
       "[2516 rows x 6 columns]"
      ],
      "text/html": [
       "<div>\n",
       "<style scoped>\n",
       "    .dataframe tbody tr th:only-of-type {\n",
       "        vertical-align: middle;\n",
       "    }\n",
       "\n",
       "    .dataframe tbody tr th {\n",
       "        vertical-align: top;\n",
       "    }\n",
       "\n",
       "    .dataframe thead th {\n",
       "        text-align: right;\n",
       "    }\n",
       "</style>\n",
       "<table border=\"1\" class=\"dataframe\">\n",
       "  <thead>\n",
       "    <tr style=\"text-align: right;\">\n",
       "      <th></th>\n",
       "      <th>Price</th>\n",
       "      <th>Close</th>\n",
       "      <th>High</th>\n",
       "      <th>Low</th>\n",
       "      <th>Open</th>\n",
       "      <th>Volume</th>\n",
       "    </tr>\n",
       "  </thead>\n",
       "  <tbody>\n",
       "    <tr>\n",
       "      <th>0</th>\n",
       "      <td>Ticker</td>\n",
       "      <td>CL=F</td>\n",
       "      <td>CL=F</td>\n",
       "      <td>CL=F</td>\n",
       "      <td>CL=F</td>\n",
       "      <td>CL=F</td>\n",
       "    </tr>\n",
       "    <tr>\n",
       "      <th>1</th>\n",
       "      <td>Date</td>\n",
       "      <td>NaN</td>\n",
       "      <td>NaN</td>\n",
       "      <td>NaN</td>\n",
       "      <td>NaN</td>\n",
       "      <td>NaN</td>\n",
       "    </tr>\n",
       "    <tr>\n",
       "      <th>2</th>\n",
       "      <td>2015-01-02</td>\n",
       "      <td>52.689998626708984</td>\n",
       "      <td>55.11000061035156</td>\n",
       "      <td>52.029998779296875</td>\n",
       "      <td>53.7599983215332</td>\n",
       "      <td>268708</td>\n",
       "    </tr>\n",
       "    <tr>\n",
       "      <th>3</th>\n",
       "      <td>2015-01-05</td>\n",
       "      <td>50.040000915527344</td>\n",
       "      <td>52.72999954223633</td>\n",
       "      <td>49.68000030517578</td>\n",
       "      <td>52.61000061035156</td>\n",
       "      <td>375782</td>\n",
       "    </tr>\n",
       "    <tr>\n",
       "      <th>4</th>\n",
       "      <td>2015-01-06</td>\n",
       "      <td>47.93000030517578</td>\n",
       "      <td>50.369998931884766</td>\n",
       "      <td>47.54999923706055</td>\n",
       "      <td>50.0</td>\n",
       "      <td>451642</td>\n",
       "    </tr>\n",
       "    <tr>\n",
       "      <th>...</th>\n",
       "      <td>...</td>\n",
       "      <td>...</td>\n",
       "      <td>...</td>\n",
       "      <td>...</td>\n",
       "      <td>...</td>\n",
       "      <td>...</td>\n",
       "    </tr>\n",
       "    <tr>\n",
       "      <th>2511</th>\n",
       "      <td>2024-12-24</td>\n",
       "      <td>70.0999984741211</td>\n",
       "      <td>70.43000030517578</td>\n",
       "      <td>69.36000061035156</td>\n",
       "      <td>69.55999755859375</td>\n",
       "      <td>122602</td>\n",
       "    </tr>\n",
       "    <tr>\n",
       "      <th>2512</th>\n",
       "      <td>2024-12-26</td>\n",
       "      <td>69.62000274658203</td>\n",
       "      <td>70.75</td>\n",
       "      <td>69.33000183105469</td>\n",
       "      <td>70.19999694824219</td>\n",
       "      <td>144877</td>\n",
       "    </tr>\n",
       "    <tr>\n",
       "      <th>2513</th>\n",
       "      <td>2024-12-27</td>\n",
       "      <td>70.5999984741211</td>\n",
       "      <td>70.75</td>\n",
       "      <td>69.44000244140625</td>\n",
       "      <td>69.68000030517578</td>\n",
       "      <td>172641</td>\n",
       "    </tr>\n",
       "    <tr>\n",
       "      <th>2514</th>\n",
       "      <td>2024-12-30</td>\n",
       "      <td>70.98999786376953</td>\n",
       "      <td>71.55999755859375</td>\n",
       "      <td>70.12000274658203</td>\n",
       "      <td>70.41999816894531</td>\n",
       "      <td>199296</td>\n",
       "    </tr>\n",
       "    <tr>\n",
       "      <th>2515</th>\n",
       "      <td>2024-12-31</td>\n",
       "      <td>71.72000122070312</td>\n",
       "      <td>72.0199966430664</td>\n",
       "      <td>70.87000274658203</td>\n",
       "      <td>71.1500015258789</td>\n",
       "      <td>151155</td>\n",
       "    </tr>\n",
       "  </tbody>\n",
       "</table>\n",
       "<p>2516 rows × 6 columns</p>\n",
       "</div>"
      ]
     },
     "execution_count": 170,
     "metadata": {},
     "output_type": "execute_result"
    }
   ],
   "execution_count": 170
  },
  {
   "metadata": {
    "ExecuteTime": {
     "end_time": "2025-03-05T17:01:42.613402Z",
     "start_time": "2025-03-05T17:01:42.606568Z"
    }
   },
   "cell_type": "code",
   "source": "oil.columns",
   "id": "732f53e04aa5f5f8",
   "outputs": [
    {
     "data": {
      "text/plain": [
       "Index(['Price', 'Close', 'High', 'Low', 'Open', 'Volume'], dtype='object')"
      ]
     },
     "execution_count": 171,
     "metadata": {},
     "output_type": "execute_result"
    }
   ],
   "execution_count": 171
  },
  {
   "metadata": {
    "ExecuteTime": {
     "end_time": "2025-03-05T17:01:42.779674Z",
     "start_time": "2025-03-05T17:01:42.772572Z"
    }
   },
   "cell_type": "code",
   "source": "oil.rename(columns={'Price': 'Date'}, inplace=True)",
   "id": "28576ccd0893a00b",
   "outputs": [],
   "execution_count": 172
  },
  {
   "metadata": {
    "ExecuteTime": {
     "end_time": "2025-03-05T17:01:42.877397Z",
     "start_time": "2025-03-05T17:01:42.870356Z"
    }
   },
   "cell_type": "code",
   "source": "oil.drop([0,1], axis=0, inplace=True)",
   "id": "bd3b358d6b4690eb",
   "outputs": [],
   "execution_count": 173
  },
  {
   "metadata": {
    "ExecuteTime": {
     "end_time": "2025-03-05T17:01:42.924432Z",
     "start_time": "2025-03-05T17:01:42.914788Z"
    }
   },
   "cell_type": "code",
   "source": [
    "oil = oil.iloc[:, [0, 4, 2, 3, 1, 5]]\n",
    "oil"
   ],
   "id": "7fd394532800f53a",
   "outputs": [
    {
     "data": {
      "text/plain": [
       "            Date                Open                High                 Low  \\\n",
       "2     2015-01-02    53.7599983215332   55.11000061035156  52.029998779296875   \n",
       "3     2015-01-05   52.61000061035156   52.72999954223633   49.68000030517578   \n",
       "4     2015-01-06                50.0  50.369998931884766   47.54999923706055   \n",
       "5     2015-01-07                48.0  49.310001373291016   46.83000183105469   \n",
       "6     2015-01-08  48.779998779296875  49.650001525878906   47.72999954223633   \n",
       "...          ...                 ...                 ...                 ...   \n",
       "2511  2024-12-24   69.55999755859375   70.43000030517578   69.36000061035156   \n",
       "2512  2024-12-26   70.19999694824219               70.75   69.33000183105469   \n",
       "2513  2024-12-27   69.68000030517578               70.75   69.44000244140625   \n",
       "2514  2024-12-30   70.41999816894531   71.55999755859375   70.12000274658203   \n",
       "2515  2024-12-31    71.1500015258789    72.0199966430664   70.87000274658203   \n",
       "\n",
       "                   Close  Volume  \n",
       "2     52.689998626708984  268708  \n",
       "3     50.040000915527344  375782  \n",
       "4      47.93000030517578  451642  \n",
       "5     48.650001525878906  460083  \n",
       "6     48.790000915527344  362081  \n",
       "...                  ...     ...  \n",
       "2511    70.0999984741211  122602  \n",
       "2512   69.62000274658203  144877  \n",
       "2513    70.5999984741211  172641  \n",
       "2514   70.98999786376953  199296  \n",
       "2515   71.72000122070312  151155  \n",
       "\n",
       "[2514 rows x 6 columns]"
      ],
      "text/html": [
       "<div>\n",
       "<style scoped>\n",
       "    .dataframe tbody tr th:only-of-type {\n",
       "        vertical-align: middle;\n",
       "    }\n",
       "\n",
       "    .dataframe tbody tr th {\n",
       "        vertical-align: top;\n",
       "    }\n",
       "\n",
       "    .dataframe thead th {\n",
       "        text-align: right;\n",
       "    }\n",
       "</style>\n",
       "<table border=\"1\" class=\"dataframe\">\n",
       "  <thead>\n",
       "    <tr style=\"text-align: right;\">\n",
       "      <th></th>\n",
       "      <th>Date</th>\n",
       "      <th>Open</th>\n",
       "      <th>High</th>\n",
       "      <th>Low</th>\n",
       "      <th>Close</th>\n",
       "      <th>Volume</th>\n",
       "    </tr>\n",
       "  </thead>\n",
       "  <tbody>\n",
       "    <tr>\n",
       "      <th>2</th>\n",
       "      <td>2015-01-02</td>\n",
       "      <td>53.7599983215332</td>\n",
       "      <td>55.11000061035156</td>\n",
       "      <td>52.029998779296875</td>\n",
       "      <td>52.689998626708984</td>\n",
       "      <td>268708</td>\n",
       "    </tr>\n",
       "    <tr>\n",
       "      <th>3</th>\n",
       "      <td>2015-01-05</td>\n",
       "      <td>52.61000061035156</td>\n",
       "      <td>52.72999954223633</td>\n",
       "      <td>49.68000030517578</td>\n",
       "      <td>50.040000915527344</td>\n",
       "      <td>375782</td>\n",
       "    </tr>\n",
       "    <tr>\n",
       "      <th>4</th>\n",
       "      <td>2015-01-06</td>\n",
       "      <td>50.0</td>\n",
       "      <td>50.369998931884766</td>\n",
       "      <td>47.54999923706055</td>\n",
       "      <td>47.93000030517578</td>\n",
       "      <td>451642</td>\n",
       "    </tr>\n",
       "    <tr>\n",
       "      <th>5</th>\n",
       "      <td>2015-01-07</td>\n",
       "      <td>48.0</td>\n",
       "      <td>49.310001373291016</td>\n",
       "      <td>46.83000183105469</td>\n",
       "      <td>48.650001525878906</td>\n",
       "      <td>460083</td>\n",
       "    </tr>\n",
       "    <tr>\n",
       "      <th>6</th>\n",
       "      <td>2015-01-08</td>\n",
       "      <td>48.779998779296875</td>\n",
       "      <td>49.650001525878906</td>\n",
       "      <td>47.72999954223633</td>\n",
       "      <td>48.790000915527344</td>\n",
       "      <td>362081</td>\n",
       "    </tr>\n",
       "    <tr>\n",
       "      <th>...</th>\n",
       "      <td>...</td>\n",
       "      <td>...</td>\n",
       "      <td>...</td>\n",
       "      <td>...</td>\n",
       "      <td>...</td>\n",
       "      <td>...</td>\n",
       "    </tr>\n",
       "    <tr>\n",
       "      <th>2511</th>\n",
       "      <td>2024-12-24</td>\n",
       "      <td>69.55999755859375</td>\n",
       "      <td>70.43000030517578</td>\n",
       "      <td>69.36000061035156</td>\n",
       "      <td>70.0999984741211</td>\n",
       "      <td>122602</td>\n",
       "    </tr>\n",
       "    <tr>\n",
       "      <th>2512</th>\n",
       "      <td>2024-12-26</td>\n",
       "      <td>70.19999694824219</td>\n",
       "      <td>70.75</td>\n",
       "      <td>69.33000183105469</td>\n",
       "      <td>69.62000274658203</td>\n",
       "      <td>144877</td>\n",
       "    </tr>\n",
       "    <tr>\n",
       "      <th>2513</th>\n",
       "      <td>2024-12-27</td>\n",
       "      <td>69.68000030517578</td>\n",
       "      <td>70.75</td>\n",
       "      <td>69.44000244140625</td>\n",
       "      <td>70.5999984741211</td>\n",
       "      <td>172641</td>\n",
       "    </tr>\n",
       "    <tr>\n",
       "      <th>2514</th>\n",
       "      <td>2024-12-30</td>\n",
       "      <td>70.41999816894531</td>\n",
       "      <td>71.55999755859375</td>\n",
       "      <td>70.12000274658203</td>\n",
       "      <td>70.98999786376953</td>\n",
       "      <td>199296</td>\n",
       "    </tr>\n",
       "    <tr>\n",
       "      <th>2515</th>\n",
       "      <td>2024-12-31</td>\n",
       "      <td>71.1500015258789</td>\n",
       "      <td>72.0199966430664</td>\n",
       "      <td>70.87000274658203</td>\n",
       "      <td>71.72000122070312</td>\n",
       "      <td>151155</td>\n",
       "    </tr>\n",
       "  </tbody>\n",
       "</table>\n",
       "<p>2514 rows × 6 columns</p>\n",
       "</div>"
      ]
     },
     "execution_count": 174,
     "metadata": {},
     "output_type": "execute_result"
    }
   ],
   "execution_count": 174
  },
  {
   "metadata": {
    "ExecuteTime": {
     "end_time": "2025-03-05T17:01:42.988233Z",
     "start_time": "2025-03-05T17:01:42.980564Z"
    }
   },
   "cell_type": "code",
   "source": [
    "oil['Date'] = pd.to_datetime(oil['Date'])\n",
    "oil.set_index('Date', inplace=True)"
   ],
   "id": "a7bee1b0f7649fa8",
   "outputs": [],
   "execution_count": 175
  },
  {
   "metadata": {
    "ExecuteTime": {
     "end_time": "2025-03-05T17:01:43.032654Z",
     "start_time": "2025-03-05T17:01:43.024473Z"
    }
   },
   "cell_type": "code",
   "source": "oil = oil.astype('float64')",
   "id": "7b0b12c6ce17cb0a",
   "outputs": [],
   "execution_count": 176
  },
  {
   "metadata": {
    "ExecuteTime": {
     "end_time": "2025-03-05T17:01:43.098764Z",
     "start_time": "2025-03-05T17:01:43.075801Z"
    }
   },
   "cell_type": "code",
   "source": "oil.to_csv('Modify_World_Oil_price.csv')",
   "id": "3a1b1cae30cf63fa",
   "outputs": [],
   "execution_count": 177
  },
  {
   "metadata": {
    "ExecuteTime": {
     "end_time": "2025-03-05T17:01:43.128007Z",
     "start_time": "2025-03-05T17:01:43.125757Z"
    }
   },
   "cell_type": "code",
   "source": "",
   "id": "d08fc6d89206db32",
   "outputs": [],
   "execution_count": null
  }
 ],
 "metadata": {
  "kernelspec": {
   "display_name": "Python 3",
   "language": "python",
   "name": "python3"
  },
  "language_info": {
   "codemirror_mode": {
    "name": "ipython",
    "version": 2
   },
   "file_extension": ".py",
   "mimetype": "text/x-python",
   "name": "python",
   "nbconvert_exporter": "python",
   "pygments_lexer": "ipython2",
   "version": "2.7.6"
  }
 },
 "nbformat": 4,
 "nbformat_minor": 5
}
